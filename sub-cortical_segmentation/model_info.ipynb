{
 "cells": [
  {
   "cell_type": "code",
   "execution_count": 4,
   "id": "4458ae43",
   "metadata": {},
   "outputs": [],
   "source": [
    "# Imports\n",
    "import torch\n",
    "import torchvision # torch package for vision related things\n",
    "import torch.nn.functional as F  # Parameterless functions, like (some) activation functions\n",
    "import torchvision.datasets as datasets  # Standard datasets\n",
    "import torchvision.transforms as transforms  # Transformations we can perform on our dataset for augmentation\n",
    "from torch import optim  # For optimizers like SGD, Adam, etc.\n",
    "from torch import nn  # All neural network modules\n",
    "from torch.utils.data import DataLoader  # Gives easier dataset managment by creating mini batches etc.\n",
    "from tqdm import tqdm  # For nice progress bar!\n",
    "from collections import OrderedDict\n",
    "from nets.models import *\n",
    "from data_utils import *\n",
    "\n",
    "from torch.utils.tensorboard import SummaryWriter\n",
    "# default `log_dir` is \"runs\" - we'll be more specific here\n",
    "writer = SummaryWriter('runs/view_network')"
   ]
  },
  {
   "cell_type": "markdown",
   "id": "a21f7f0a",
   "metadata": {},
   "source": [
    "## Model info"
   ]
  },
  {
   "cell_type": "code",
   "execution_count": 5,
   "id": "ada886f7",
   "metadata": {},
   "outputs": [
    {
     "name": "stdout",
     "output_type": "stream",
     "text": [
      "odict_keys(['axial_branch.conv_sub_block1.conv.weight', 'axial_branch.conv_sub_block1.conv.bias', 'axial_branch.conv_sub_block1.batch_norm.weight', 'axial_branch.conv_sub_block1.batch_norm.bias', 'axial_branch.conv_sub_block1.batch_norm.running_mean', 'axial_branch.conv_sub_block1.batch_norm.running_var', 'axial_branch.conv_sub_block1.batch_norm.num_batches_tracked', 'axial_branch.conv_sub_block2.conv.weight', 'axial_branch.conv_sub_block2.conv.bias', 'axial_branch.conv_sub_block2.batch_norm.weight', 'axial_branch.conv_sub_block2.batch_norm.bias', 'axial_branch.conv_sub_block2.batch_norm.running_mean', 'axial_branch.conv_sub_block2.batch_norm.running_var', 'axial_branch.conv_sub_block2.batch_norm.num_batches_tracked', 'axial_branch.conv_sub_block3.conv.weight', 'axial_branch.conv_sub_block3.conv.bias', 'axial_branch.conv_sub_block3.batch_norm.weight', 'axial_branch.conv_sub_block3.batch_norm.bias', 'axial_branch.conv_sub_block3.batch_norm.running_mean', 'axial_branch.conv_sub_block3.batch_norm.running_var', 'axial_branch.conv_sub_block3.batch_norm.num_batches_tracked', 'axial_branch.conv_sub_block4.conv.weight', 'axial_branch.conv_sub_block4.conv.bias', 'axial_branch.conv_sub_block4.batch_norm.weight', 'axial_branch.conv_sub_block4.batch_norm.bias', 'axial_branch.conv_sub_block4.batch_norm.running_mean', 'axial_branch.conv_sub_block4.batch_norm.running_var', 'axial_branch.conv_sub_block4.batch_norm.num_batches_tracked', 'axial_branch.conv_sub_block5.conv.weight', 'axial_branch.conv_sub_block5.conv.bias', 'axial_branch.conv_sub_block5.batch_norm.weight', 'axial_branch.conv_sub_block5.batch_norm.bias', 'axial_branch.conv_sub_block5.batch_norm.running_mean', 'axial_branch.conv_sub_block5.batch_norm.running_var', 'axial_branch.conv_sub_block5.batch_norm.num_batches_tracked', 'axial_branch.fc1.weight', 'axial_branch.fc1.bias', 'axial_branch.prelu.weight', 'sagital_branch.conv_sub_block1.conv.weight', 'sagital_branch.conv_sub_block1.conv.bias', 'sagital_branch.conv_sub_block1.batch_norm.weight', 'sagital_branch.conv_sub_block1.batch_norm.bias', 'sagital_branch.conv_sub_block1.batch_norm.running_mean', 'sagital_branch.conv_sub_block1.batch_norm.running_var', 'sagital_branch.conv_sub_block1.batch_norm.num_batches_tracked', 'sagital_branch.conv_sub_block2.conv.weight', 'sagital_branch.conv_sub_block2.conv.bias', 'sagital_branch.conv_sub_block2.batch_norm.weight', 'sagital_branch.conv_sub_block2.batch_norm.bias', 'sagital_branch.conv_sub_block2.batch_norm.running_mean', 'sagital_branch.conv_sub_block2.batch_norm.running_var', 'sagital_branch.conv_sub_block2.batch_norm.num_batches_tracked', 'sagital_branch.conv_sub_block3.conv.weight', 'sagital_branch.conv_sub_block3.conv.bias', 'sagital_branch.conv_sub_block3.batch_norm.weight', 'sagital_branch.conv_sub_block3.batch_norm.bias', 'sagital_branch.conv_sub_block3.batch_norm.running_mean', 'sagital_branch.conv_sub_block3.batch_norm.running_var', 'sagital_branch.conv_sub_block3.batch_norm.num_batches_tracked', 'sagital_branch.conv_sub_block4.conv.weight', 'sagital_branch.conv_sub_block4.conv.bias', 'sagital_branch.conv_sub_block4.batch_norm.weight', 'sagital_branch.conv_sub_block4.batch_norm.bias', 'sagital_branch.conv_sub_block4.batch_norm.running_mean', 'sagital_branch.conv_sub_block4.batch_norm.running_var', 'sagital_branch.conv_sub_block4.batch_norm.num_batches_tracked', 'sagital_branch.conv_sub_block5.conv.weight', 'sagital_branch.conv_sub_block5.conv.bias', 'sagital_branch.conv_sub_block5.batch_norm.weight', 'sagital_branch.conv_sub_block5.batch_norm.bias', 'sagital_branch.conv_sub_block5.batch_norm.running_mean', 'sagital_branch.conv_sub_block5.batch_norm.running_var', 'sagital_branch.conv_sub_block5.batch_norm.num_batches_tracked', 'sagital_branch.fc1.weight', 'sagital_branch.fc1.bias', 'sagital_branch.prelu.weight', 'coronal_branch.conv_sub_block1.conv.weight', 'coronal_branch.conv_sub_block1.conv.bias', 'coronal_branch.conv_sub_block1.batch_norm.weight', 'coronal_branch.conv_sub_block1.batch_norm.bias', 'coronal_branch.conv_sub_block1.batch_norm.running_mean', 'coronal_branch.conv_sub_block1.batch_norm.running_var', 'coronal_branch.conv_sub_block1.batch_norm.num_batches_tracked', 'coronal_branch.conv_sub_block2.conv.weight', 'coronal_branch.conv_sub_block2.conv.bias', 'coronal_branch.conv_sub_block2.batch_norm.weight', 'coronal_branch.conv_sub_block2.batch_norm.bias', 'coronal_branch.conv_sub_block2.batch_norm.running_mean', 'coronal_branch.conv_sub_block2.batch_norm.running_var', 'coronal_branch.conv_sub_block2.batch_norm.num_batches_tracked', 'coronal_branch.conv_sub_block3.conv.weight', 'coronal_branch.conv_sub_block3.conv.bias', 'coronal_branch.conv_sub_block3.batch_norm.weight', 'coronal_branch.conv_sub_block3.batch_norm.bias', 'coronal_branch.conv_sub_block3.batch_norm.running_mean', 'coronal_branch.conv_sub_block3.batch_norm.running_var', 'coronal_branch.conv_sub_block3.batch_norm.num_batches_tracked', 'coronal_branch.conv_sub_block4.conv.weight', 'coronal_branch.conv_sub_block4.conv.bias', 'coronal_branch.conv_sub_block4.batch_norm.weight', 'coronal_branch.conv_sub_block4.batch_norm.bias', 'coronal_branch.conv_sub_block4.batch_norm.running_mean', 'coronal_branch.conv_sub_block4.batch_norm.running_var', 'coronal_branch.conv_sub_block4.batch_norm.num_batches_tracked', 'coronal_branch.conv_sub_block5.conv.weight', 'coronal_branch.conv_sub_block5.conv.bias', 'coronal_branch.conv_sub_block5.batch_norm.weight', 'coronal_branch.conv_sub_block5.batch_norm.bias', 'coronal_branch.conv_sub_block5.batch_norm.running_mean', 'coronal_branch.conv_sub_block5.batch_norm.running_var', 'coronal_branch.conv_sub_block5.batch_norm.num_batches_tracked', 'coronal_branch.fc1.weight', 'coronal_branch.fc1.bias', 'coronal_branch.prelu.weight', 'fc1.weight', 'fc1.bias', 'prelu1.weight', 'fc2.weight', 'fc2.bias', 'prelu2.weight', 'fc3.weight', 'fc3.bias', 'prelu3.weight', 'fc4.weight', 'fc4.bias'])\n"
     ]
    }
   ],
   "source": [
    "# initiate model\n",
    "model = sub_cort_model(input_size, drop_rate).to(device)\n",
    "params = model.state_dict()\n",
    "print(params.keys())"
   ]
  },
  {
   "cell_type": "code",
   "execution_count": 6,
   "id": "7150f917",
   "metadata": {},
   "outputs": [
    {
     "name": "stdout",
     "output_type": "stream",
     "text": [
      "torch.Size([60, 40, 3, 3])\n",
      "torch.Size([2, 15])\n"
     ]
    },
    {
     "data": {
      "text/plain": [
       "(tensor([0.2500]), tensor([0.2500]), tensor([0.2500]))"
      ]
     },
     "execution_count": 6,
     "metadata": {},
     "output_type": "execute_result"
    }
   ],
   "source": [
    "print(params['axial_branch.conv_sub_block5.conv.weight'].shape)\n",
    "print(params['fc4.weight'].shape)\n",
    "params['prelu1.weight'],params['prelu2.weight'],params['prelu3.weight']"
   ]
  },
  {
   "cell_type": "code",
   "execution_count": 7,
   "id": "0f472fa7",
   "metadata": {},
   "outputs": [],
   "source": [
    "train_loader = get_loader('train', batch_size)\n",
    "examples = iter(train_loader)\n",
    "example_data, example_targets = examples.next()"
   ]
  },
  {
   "cell_type": "code",
   "execution_count": 8,
   "id": "ee147270",
   "metadata": {},
   "outputs": [
    {
     "data": {
      "text/plain": [
       "torch.Size([64, 2])"
      ]
     },
     "execution_count": 8,
     "metadata": {},
     "output_type": "execute_result"
    }
   ],
   "source": [
    "dd=model(example_data,example_data,example_data)\n",
    "dd.shape"
   ]
  },
  {
   "cell_type": "code",
   "execution_count": null,
   "id": "1182be10",
   "metadata": {},
   "outputs": [],
   "source": []
  }
 ],
 "metadata": {
  "kernelspec": {
   "display_name": "Python 3 (ipykernel)",
   "language": "python",
   "name": "python3"
  },
  "language_info": {
   "codemirror_mode": {
    "name": "ipython",
    "version": 3
   },
   "file_extension": ".py",
   "mimetype": "text/x-python",
   "name": "python",
   "nbconvert_exporter": "python",
   "pygments_lexer": "ipython3",
   "version": "3.7.11"
  }
 },
 "nbformat": 4,
 "nbformat_minor": 5
}
